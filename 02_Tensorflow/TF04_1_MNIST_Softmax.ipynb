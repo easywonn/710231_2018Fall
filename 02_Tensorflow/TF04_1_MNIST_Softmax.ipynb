{
 "cells": [
  {
   "cell_type": "code",
   "execution_count": 1,
   "metadata": {},
   "outputs": [],
   "source": [
    "import tensorflow as tf\n",
    "import random\n",
    "from tensorflow.examples.tutorials.mnist import input_data\n",
    "import matplotlib.pyplot as plt"
   ]
  },
  {
   "cell_type": "code",
   "execution_count": 2,
   "metadata": {},
   "outputs": [],
   "source": [
    "tf.set_random_seed(777)  # reproducibility"
   ]
  },
  {
   "cell_type": "code",
   "execution_count": 3,
   "metadata": {},
   "outputs": [
    {
     "name": "stdout",
     "output_type": "stream",
     "text": [
      "Extracting ./MNIST_data/train-images-idx3-ubyte.gz\n",
      "Extracting ./MNIST_data/train-labels-idx1-ubyte.gz\n",
      "Extracting ./MNIST_data/t10k-images-idx3-ubyte.gz\n",
      "Extracting ./MNIST_data/t10k-labels-idx1-ubyte.gz\n"
     ]
    }
   ],
   "source": [
    "mnist = input_data.read_data_sets(\"./MNIST_data/\", one_hot=True)"
   ]
  },
  {
   "cell_type": "code",
   "execution_count": 4,
   "metadata": {},
   "outputs": [],
   "source": [
    "# parameters\n",
    "learning_rate = 0.001\n",
    "training_epochs = 50 #전체 데이터를 50번 학습하겠다\n",
    "batch_size = 128"
   ]
  },
  {
   "cell_type": "code",
   "execution_count": 5,
   "metadata": {},
   "outputs": [],
   "source": [
    "# input place holders\n",
    "X = tf.placeholder(tf.float32, [None, 784])\n",
    "Y = tf.placeholder(tf.float32, [None, 10])"
   ]
  },
  {
   "cell_type": "code",
   "execution_count": 6,
   "metadata": {},
   "outputs": [],
   "source": [
    "# weights & bias for nn layers\n",
    "W = tf.Variable(tf.random_normal([784, 10])) # 784 X 10 =7840개의 픽셀(정보)을 이용하여 정답 유추\n",
    "b = tf.Variable(tf.random_normal([10]))\n",
    "\n",
    "hypothesis = tf.matmul(X, W) + b\n",
    "\n",
    "# define cost/loss & optimizer\n",
    "#cost = tf.reduce_mean(tf.nn.softmax_cross_entropy_with_logits(logits=hypothesis, labels=Y))\n",
    "cost = tf.reduce_mean(tf.square(hypothesis - Y))\n",
    "\n",
    "optimizer = tf.train.AdamOptimizer(learning_rate=learning_rate).minimize(cost)"
   ]
  },
  {
   "cell_type": "code",
   "execution_count": 7,
   "metadata": {},
   "outputs": [],
   "source": [
    "# initialize\n",
    "sess = tf.InteractiveSession()\n",
    "sess.run(tf.global_variables_initializer())"
   ]
  },
  {
   "cell_type": "code",
   "execution_count": 8,
   "metadata": {},
   "outputs": [],
   "source": [
    "vc = []"
   ]
  },
  {
   "cell_type": "code",
   "execution_count": 9,
   "metadata": {},
   "outputs": [
    {
     "name": "stdout",
     "output_type": "stream",
     "text": [
      "Epoch: 0001 cost = 35.277450099\n",
      "Epoch: 0002 cost = 14.308401650\n",
      "Epoch: 0003 cost = 9.026778536\n",
      "Epoch: 0004 cost = 6.412436645\n",
      "Epoch: 0005 cost = 4.862800869\n",
      "Epoch: 0006 cost = 3.840647854\n",
      "Epoch: 0007 cost = 3.115457276\n",
      "Epoch: 0008 cost = 2.567167001\n",
      "Epoch: 0009 cost = 2.144114804\n",
      "Epoch: 0010 cost = 1.805606233\n",
      "Epoch: 0011 cost = 1.531944441\n",
      "Epoch: 0012 cost = 1.305222320\n",
      "Epoch: 0013 cost = 1.116181322\n",
      "Epoch: 0014 cost = 0.956514186\n",
      "Epoch: 0015 cost = 0.818951411\n",
      "Epoch: 0016 cost = 0.701222375\n",
      "Epoch: 0017 cost = 0.601362520\n",
      "Epoch: 0018 cost = 0.514871872\n",
      "Epoch: 0019 cost = 0.441104051\n",
      "Epoch: 0020 cost = 0.377390171\n",
      "Epoch: 0021 cost = 0.322839895\n",
      "Epoch: 0022 cost = 0.276691091\n",
      "Epoch: 0023 cost = 0.237337386\n",
      "Epoch: 0024 cost = 0.204031259\n",
      "Epoch: 0025 cost = 0.175245805\n",
      "Epoch: 0026 cost = 0.151707734\n",
      "Epoch: 0027 cost = 0.131606124\n",
      "Epoch: 0028 cost = 0.114884792\n",
      "Epoch: 0029 cost = 0.100642784\n",
      "Epoch: 0030 cost = 0.089358514\n",
      "Epoch: 0031 cost = 0.079655104\n",
      "Epoch: 0032 cost = 0.071808274\n",
      "Epoch: 0033 cost = 0.065404788\n",
      "Epoch: 0034 cost = 0.060298153\n",
      "Epoch: 0035 cost = 0.056030068\n",
      "Epoch: 0036 cost = 0.052966911\n",
      "Epoch: 0037 cost = 0.050096269\n",
      "Epoch: 0038 cost = 0.048156101\n",
      "Epoch: 0039 cost = 0.046373173\n",
      "Epoch: 0040 cost = 0.045021910\n",
      "Epoch: 0041 cost = 0.044102192\n",
      "Epoch: 0042 cost = 0.043257816\n",
      "Epoch: 0043 cost = 0.042415865\n",
      "Epoch: 0044 cost = 0.041963906\n",
      "Epoch: 0045 cost = 0.041563592\n",
      "Epoch: 0046 cost = 0.041420384\n",
      "Epoch: 0047 cost = 0.040901993\n",
      "Epoch: 0048 cost = 0.040698668\n",
      "Epoch: 0049 cost = 0.040597280\n",
      "Epoch: 0050 cost = 0.040464945\n",
      "Learning Finished!\n"
     ]
    }
   ],
   "source": [
    "# train my model\n",
    "for epoch in range(training_epochs):\n",
    "    avg_cost = 0\n",
    "    total_batch = int(mnist.train.num_examples / batch_size)\n",
    "\n",
    "    for i in range(total_batch):\n",
    "        batch_xs, batch_ys = mnist.train.next_batch(batch_size)\n",
    "        feed_dict = {X: batch_xs, Y: batch_ys}\n",
    "        c, _ = sess.run([cost, optimizer], feed_dict=feed_dict)\n",
    "        avg_cost += c / total_batch\n",
    "\n",
    "    print('Epoch:', '%04d' % (epoch + 1), 'cost =', '{:.9f}'.format(avg_cost))\n",
    "    vc.append(avg_cost)\n",
    "\n",
    "print('Learning Finished!')"
   ]
  },
  {
   "cell_type": "code",
   "execution_count": 10,
   "metadata": {},
   "outputs": [
    {
     "data": {
      "text/plain": [
       "[<matplotlib.lines.Line2D at 0x242985fbe80>]"
      ]
     },
     "execution_count": 10,
     "metadata": {},
     "output_type": "execute_result"
    },
    {
     "data": {
      "image/png": "[encoded data removed]",
      "text/plain": [
       "<Figure size 432x288 with 1 Axes>"
      ]
     },
     "metadata": {
      "needs_background": "light"
     },
     "output_type": "display_data"
    }
   ],
   "source": [
    "plt.plot(vc)"
   ]
  },
  {
   "cell_type": "code",
   "execution_count": 11,
   "metadata": {},
   "outputs": [
    {
     "name": "stdout",
     "output_type": "stream",
     "text": [
      "<dtype: 'bool'>\n",
      "Accuracy: 0.852\n"
     ]
    }
   ],
   "source": [
    "################################\n",
    "# 정확도 확인하기\n",
    "# Test model and check accuracy\n",
    "pred = tf.equal(tf.argmax(hypothesis, 1), tf.argmax(Y, 1))\n",
    "print (pred.dtype)\n",
    "accuracy = tf.reduce_mean(tf.cast(pred, tf.float32))\n",
    "print('Accuracy:', sess.run(accuracy, feed_dict={X: mnist.test.images, Y: mnist.test.labels}))"
   ]
  },
  {
   "cell_type": "code",
   "execution_count": null,
   "metadata": {},
   "outputs": [],
   "source": []
  }
 ],
 "metadata": {
  "kernelspec": {
   "display_name": "Python 3",
   "language": "python",
   "name": "python3"
  },
  "language_info": {
   "codemirror_mode": {
    "name": "ipython",
    "version": 3
   },
   "file_extension": ".py",
   "mimetype": "text/x-python",
   "name": "python",
   "nbconvert_exporter": "python",
   "pygments_lexer": "ipython3",
   "version": "3.5.3"
  }
 },
 "nbformat": 4,
 "nbformat_minor": 2
}
